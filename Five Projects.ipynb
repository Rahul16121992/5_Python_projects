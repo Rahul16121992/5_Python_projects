{
 "cells": [
  {
   "cell_type": "markdown",
   "id": "b0991fbe-296d-4ee3-a108-2d1a80d43078",
   "metadata": {},
   "source": [
    "### 5 Basic Python Projects for Begginers"
   ]
  },
  {
   "cell_type": "markdown",
   "id": "a73dbb6c-5a74-4e13-b901-419f278b0ed2",
   "metadata": {},
   "source": [
    "### 1. Simple Calculator"
   ]
  },
  {
   "cell_type": "code",
   "execution_count": 5,
   "id": "9d04064e-e30c-4ace-957a-2e8d22f03e09",
   "metadata": {},
   "outputs": [
    {
     "name": "stdin",
     "output_type": "stream",
     "text": [
      "Choose an operation (+, -, *, /):  +\n",
      "Enter first number:  123\n",
      "Enter second number:  345\n"
     ]
    },
    {
     "name": "stdout",
     "output_type": "stream",
     "text": [
      "123.0 + 345.0 = 468.0\n"
     ]
    }
   ],
   "source": [
    "def calculator():\n",
    "    operation = input(\"Choose an operation (+, -, *, /): \")\n",
    "    num1 = float(input(\"Enter first number: \"))\n",
    "    num2 = float(input(\"Enter second number: \"))\n",
    "\n",
    "    if operation == '+':\n",
    "        print(f\"{num1} + {num2} = {num1 + num2}\")\n",
    "    elif operation == '-':\n",
    "        print(f\"{num1} - {num2} = {num1 - num2}\")\n",
    "    elif operation == '*':\n",
    "        print(f\"{num1} * {num2} = {num1 * num2}\")\n",
    "    elif operation == '/':\n",
    "        if num2 != 0:\n",
    "            print(f\"{num1} / {num2} = {num1 / num2}\")\n",
    "        else:\n",
    "            print(\"Error! Division by zero.\")\n",
    "    else:\n",
    "        print(\"Invalid operation.\")\n",
    "\n",
    "calculator()\n"
   ]
  },
  {
   "cell_type": "markdown",
   "id": "d7a8817d-0ad6-4f52-ad50-996bf128f4ba",
   "metadata": {},
   "source": [
    "### 2. To-Do List A simple command-line to-do list application."
   ]
  },
  {
   "cell_type": "code",
   "execution_count": 8,
   "id": "929bde34-80b1-40f0-8ad0-eecd39dd5bbe",
   "metadata": {},
   "outputs": [
    {
     "name": "stdin",
     "output_type": "stream",
     "text": [
      "Enter a task (or type 'quit' to exit):  python Programming\n"
     ]
    },
    {
     "name": "stdout",
     "output_type": "stream",
     "text": [
      "Current To-Do List:\n",
      "1. python Programming\n"
     ]
    },
    {
     "name": "stdin",
     "output_type": "stream",
     "text": [
      "Enter a task (or type 'quit' to exit):  Reading Books\n"
     ]
    },
    {
     "name": "stdout",
     "output_type": "stream",
     "text": [
      "Current To-Do List:\n",
      "1. python Programming\n",
      "2. Reading Books\n"
     ]
    },
    {
     "name": "stdin",
     "output_type": "stream",
     "text": [
      "Enter a task (or type 'quit' to exit):  quit\n"
     ]
    }
   ],
   "source": [
    "def todo_list():\n",
    "    todos = []\n",
    "    while True:\n",
    "        task = input(\"Enter a task (or type 'quit' to exit): \")\n",
    "        if task.lower() == 'quit':\n",
    "            break\n",
    "        todos.append(task)\n",
    "        print(\"Current To-Do List:\")\n",
    "        for i, todo in enumerate(todos, 1):\n",
    "            print(f\"{i}. {todo}\")\n",
    "\n",
    "todo_list()\n"
   ]
  },
  {
   "cell_type": "markdown",
   "id": "8363562b-bb46-48b0-a4db-01b552753960",
   "metadata": {},
   "source": [
    "### 3. Basic Contact Book . This project allows users to add, view, and search for contacts."
   ]
  },
  {
   "cell_type": "code",
   "execution_count": 14,
   "id": "82ec6dfc-b58a-4535-84cd-9ff2f1a2e199",
   "metadata": {},
   "outputs": [
    {
     "name": "stdout",
     "output_type": "stream",
     "text": [
      "\n",
      "Contact Book Menu:\n",
      "1. Add Contact\n",
      "2. View Contacts\n",
      "3. Search Contact\n",
      "4. Exit\n"
     ]
    },
    {
     "name": "stdin",
     "output_type": "stream",
     "text": [
      "Choose an option (1-4):  4\n"
     ]
    },
    {
     "name": "stdout",
     "output_type": "stream",
     "text": [
      "Exiting the contact book.\n"
     ]
    }
   ],
   "source": [
    "def contact_book():\n",
    "    contacts = {}\n",
    "\n",
    "    while True:\n",
    "        print(\"\\nContact Book Menu:\")\n",
    "        print(\"1. Add Contact\")\n",
    "        print(\"2. View Contacts\")\n",
    "        print(\"3. Search Contact\")\n",
    "        print(\"4. Exit\")\n",
    "        choice = input(\"Choose an option (1-4): \")\n",
    "\n",
    "        if choice == '1':\n",
    "            name = input(\"Enter contact name: \")\n",
    "            phone = input(\"Enter contact phone number: \")\n",
    "            contacts[name] = phone\n",
    "            print(f\"Contact {name} added.\")\n",
    "\n",
    "        elif choice == '2':\n",
    "            print(\"\\nContacts:\")\n",
    "            for name, phone in contacts.items():\n",
    "                print(f\"Name: {name}, Phone: {phone}\")\n",
    "\n",
    "        elif choice == '3':\n",
    "            search_name = input(\"Enter the name to search: \")\n",
    "            if search_name in contacts:\n",
    "                print(f\"Found: {search_name}, Phone: {contacts[search_name]}\")\n",
    "            else:\n",
    "                print(\"Contact not found.\")\n",
    "\n",
    "        elif choice == '4':\n",
    "            print(\"Exiting the contact book.\")\n",
    "            break\n",
    "\n",
    "        else:\n",
    "            print(\"Invalid choice. Please try again.\")\n",
    "\n",
    "contact_book()\n"
   ]
  },
  {
   "cell_type": "markdown",
   "id": "f83c8cd1-af97-4fe8-bb2e-3d7d804dfb1a",
   "metadata": {},
   "source": [
    "### 4. Basic Alarm Clock A simple alarm clock that alerts the user at a specified time."
   ]
  },
  {
   "cell_type": "code",
   "execution_count": 17,
   "id": "01966831-52a9-4fae-986e-8e6358416344",
   "metadata": {},
   "outputs": [],
   "source": [
    "import time\n",
    "\n",
    "def alarm_clock():\n",
    "    alarm_time = input(\"Set the alarm time (HH:MM:SS): \")\n",
    "    print(\"Alarm is set for\", alarm_time)\n",
    "    while True:\n",
    "        current_time = time.strftime(\"%H:%M:%S\")\n",
    "        if current_time == alarm_time:\n",
    "            print(\"Alarm ringing! Time to wake up!\")\n",
    "            break\n",
    "        time.sleep(1)\n"
   ]
  },
  {
   "cell_type": "markdown",
   "id": "44d442ea-a84a-4613-8897-0adef554a265",
   "metadata": {},
   "source": [
    "### 5. Basic Web Scraper A simple web scraper that fetches the title of a webpage."
   ]
  },
  {
   "cell_type": "code",
   "execution_count": null,
   "id": "c775cd8e-4c08-44da-9d62-1c854798e343",
   "metadata": {},
   "outputs": [],
   "source": [
    "import requests\n",
    "from bs4 import BeautifulSoup\n",
    "\n",
    "def web_scraper():\n",
    "    url = input(\"Enter a URL: \")\n",
    "    response = requests.get(url)\n",
    "    soup = BeautifulSoup(response.text, 'html.parser')\n",
    "    title = soup.title.string\n",
    "    print(\"Title of the webpage:\", title)\n"
   ]
  }
 ],
 "metadata": {
  "kernelspec": {
   "display_name": "Python 3 (ipykernel)",
   "language": "python",
   "name": "python3"
  },
  "language_info": {
   "codemirror_mode": {
    "name": "ipython",
    "version": 3
   },
   "file_extension": ".py",
   "mimetype": "text/x-python",
   "name": "python",
   "nbconvert_exporter": "python",
   "pygments_lexer": "ipython3",
   "version": "3.12.4"
  }
 },
 "nbformat": 4,
 "nbformat_minor": 5
}
